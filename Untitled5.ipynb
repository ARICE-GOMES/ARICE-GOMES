{
  "nbformat": 4,
  "nbformat_minor": 0,
  "metadata": {
    "colab": {
      "provenance": [],
      "authorship_tag": "ABX9TyNJKqHJzkvYEtmeJ74Ijlsh",
      "include_colab_link": true
    },
    "kernelspec": {
      "name": "python3",
      "display_name": "Python 3"
    },
    "language_info": {
      "name": "python"
    }
  },
  "cells": [
    {
      "cell_type": "markdown",
      "metadata": {
        "id": "view-in-github",
        "colab_type": "text"
      },
      "source": [
        "<a href=\"https://colab.research.google.com/github/ARICE-GOMES/ARICE-GOMES/blob/main/Untitled5.ipynb\" target=\"_parent\"><img src=\"https://colab.research.google.com/assets/colab-badge.svg\" alt=\"Open In Colab\"/></a>"
      ]
    },
    {
      "cell_type": "code",
      "execution_count": 4,
      "metadata": {
        "colab": {
          "base_uri": "https://localhost:8080/"
        },
        "id": "_XSX4qvQfbgY",
        "outputId": "cfc70fb1-3957-4a48-b592-620c20db767d"
      },
      "outputs": [
        {
          "output_type": "stream",
          "name": "stdout",
          "text": [
            "javascript\n"
          ]
        }
      ],
      "source": [
        "livros=[\"javascript\",\"ecmsscript\",\"mongodb\"]\n",
        "#consulta por index e mostra o nome do elemento\n",
        "print(livros[0])\n",
        "#consulta por nome"
      ]
    },
    {
      "cell_type": "code",
      "source": [
        "livros=[\"javascript\",\"emsscript\",\"mongodb\"]\n",
        "user=int (input(\"insira o index para consulta:  \"))\n",
        "consulta_posicao = livros[user]\n",
        "print(consulta_posicao)"
      ],
      "metadata": {
        "colab": {
          "base_uri": "https://localhost:8080/"
        },
        "id": "DaiaWPIAkFg9",
        "outputId": "dd8ac18a-f08d-414a-d8b6-38ef0e866810"
      },
      "execution_count": 6,
      "outputs": [
        {
          "output_type": "stream",
          "name": "stdout",
          "text": [
            "insira o index para consulta:  1\n",
            "emsscript\n"
          ]
        }
      ]
    },
    {
      "cell_type": "code",
      "source": [
        "livros = [\"javascript\",\"emsscript\",\"mongodb\"]\n",
        "#consulta por index e mostra o nome do elemento\n",
        "\n",
        "pesquisa = input('qual livro voce quer comprar? ')\n",
        "\n",
        "if pesquisa in livros :\n",
        "\n",
        "    print(\"o seu livro esta disponivel para compra.\")\n",
        "else:\n",
        "\n",
        "    print('este livro nao esta disponivel para compra.')"
      ],
      "metadata": {
        "colab": {
          "base_uri": "https://localhost:8080/"
        },
        "id": "-XSzllQhmn1s",
        "outputId": "eac68821-216a-4a76-d490-efacca7f9a4f"
      },
      "execution_count": 8,
      "outputs": [
        {
          "output_type": "stream",
          "name": "stdout",
          "text": [
            "qual livro voce quer comprar? 2\n",
            "este livro nao esta disponivel para compra.\n"
          ]
        }
      ]
    },
    {
      "cell_type": "code",
      "source": [
        "livros= ['javascript','emsscript','mongodb']\n",
        "pesquisa=input('qual livro voce quer encontrar? ')\n",
        "posicao = livros.index(pesquisa)\n",
        "\n",
        "if pesquisa in livros:\n",
        "    print(f'o seu livro {pesquisa}esta na posicao{posicao}.')\n",
        "else:\n",
        "    print(f'este livro {pesquisa}nao esta disponivel no acervo .')\n"
      ],
      "metadata": {
        "colab": {
          "base_uri": "https://localhost:8080/"
        },
        "id": "115A218grCZ0",
        "outputId": "ca41911b-a463-4605-f0ea-accc2f0c5d79"
      },
      "execution_count": 11,
      "outputs": [
        {
          "output_type": "stream",
          "name": "stdout",
          "text": [
            "qual livro voce quer encontrar? mongodb\n",
            "o seu livro mongodbesta na posicao2.\n"
          ]
        }
      ]
    },
    {
      "cell_type": "code",
      "source": [
        "livros = ['github','projetos','python','sql','figma','ux/ui','github']\n",
        "# metodo len,retorna a quantidade de elementos na lista\n",
        "tamanho_estoque = len(livros)\n",
        "espaco = 10 - tamanho_estoque\n",
        "\n",
        "#processamento\n",
        "if tamanho_estoque < 10 :\n",
        "   print(f'voce ainda tem {espaco}vagas livros no estoque.')\n",
        "\n",
        "else:\n",
        "\n",
        "  print(f'voce nao tem espaco para estocar.')\n"
      ],
      "metadata": {
        "colab": {
          "base_uri": "https://localhost:8080/"
        },
        "id": "PAzwqf8CwBn8",
        "outputId": "83ee0332-8aee-47e7-8c98-cb88286b51cd"
      },
      "execution_count": 12,
      "outputs": [
        {
          "output_type": "stream",
          "name": "stdout",
          "text": [
            "voce ainda tem 3vagas livros no estoque.\n"
          ]
        }
      ]
    },
    {
      "cell_type": "code",
      "source": [
        "password = input(\"digite sua senha\")\n",
        "tamanho_senha = len(password)\n",
        "\n",
        "if tamanho_senha >= 8:\n",
        "    print(f'voce escolheu {password} senha forte')\n",
        "\n",
        "else:\n",
        "    print(f' sua senha e fraca, escolha outra senha')\n"
      ],
      "metadata": {
        "colab": {
          "base_uri": "https://localhost:8080/"
        },
        "id": "yJ6kev8D8h3R",
        "outputId": "5f088f0b-703b-454d-91a2-06c78e4cd017"
      },
      "execution_count": 17,
      "outputs": [
        {
          "output_type": "stream",
          "name": "stdout",
          "text": [
            "digite sua senha45781234@\n",
            "voce escolheu 45781234@ senha forte\n"
          ]
        }
      ]
    },
    {
      "cell_type": "code",
      "source": [],
      "metadata": {
        "id": "_V9x7d1bHKpu"
      },
      "execution_count": null,
      "outputs": []
    }
  ]
}