{
  "nbformat": 4,
  "nbformat_minor": 0,
  "metadata": {
    "colab": {
      "provenance": [],
      "authorship_tag": "ABX9TyN+5hO8U56YuGMyh29eJlCU",
      "include_colab_link": true
    },
    "kernelspec": {
      "name": "python3",
      "display_name": "Python 3"
    },
    "language_info": {
      "name": "python"
    }
  },
  "cells": [
    {
      "cell_type": "markdown",
      "metadata": {
        "id": "view-in-github",
        "colab_type": "text"
      },
      "source": [
        "<a href=\"https://colab.research.google.com/github/ARICE-GOMES/ARICE-GOMES/blob/main/Untitled6.ipynb\" target=\"_parent\"><img src=\"https://colab.research.google.com/assets/colab-badge.svg\" alt=\"Open In Colab\"/></a>"
      ]
    },
    {
      "cell_type": "code",
      "execution_count": 1,
      "metadata": {
        "colab": {
          "base_uri": "https://localhost:8080/"
        },
        "id": "YUMkLSGch6-U",
        "outputId": "1ef7b553-004c-4036-9959-bb94e2531757"
      },
      "outputs": [
        {
          "output_type": "stream",
          "name": "stdout",
          "text": [
            "qual pais voc quer saber a capital?Belgica\n",
            "Bruxelas\n"
          ]
        }
      ],
      "source": [
        "paises = {'Brasil':'Brasilia','Belgica':'Bruxelas','Tailandia':'Bangkok','Senegal':'Dakar','Australia':'Camberra'}\n",
        "busca =paises [input('qual pais voc quer saber a capital?')]\n"
      ]
    },
    {
      "cell_type": "code",
      "source": [
        "paises = {'Brasil':'Brasilia','Belgica':'Bruxelas','Tailandia':'Bangkok','Senegal':'Dakar','Australia':'Camberra'}\n",
        "busca = input('qual pais voce quer saber a capital? ')\n",
        "capital= paises[busca]\n",
        "\n",
        "# operador logico :in\n",
        "#se o pais pesquisado existe,responda 'O pais    tem a capital      .\n",
        "#se nâo existe o pais, responda: O país      , nâo existe no arquivo.\"\n",
        "\n",
        "\n",
        "if busca in paises:\n",
        "    capital= paises[busca]\n",
        "    print ( f'o país{busca}   tem a captal {capital} ')\n",
        "\n",
        "else:\n",
        "    print(f'o pais  nao existe no arquivo')\n",
        "\n"
      ],
      "metadata": {
        "colab": {
          "base_uri": "https://localhost:8080/"
        },
        "id": "4U1ekgv2n_Qs",
        "outputId": "f3d14f1c-8bfd-42a3-9545-71ab1fece649"
      },
      "execution_count": 4,
      "outputs": [
        {
          "output_type": "stream",
          "name": "stdout",
          "text": [
            "qual pais voce quer saber a capital? Australia\n",
            "o paísAustralia   tem a captal Camberra \n"
          ]
        }
      ]
    },
    {
      "cell_type": "code",
      "source": [
        "paises = {'Brasil':'Brasilia','Belgica':'Bruxelas','Tailandia':'Bangkok','Senegal':'Dakar','Australia':'Camberra'}\n",
        "\n",
        "while True:\n",
        "\n",
        "    busca =  input('qual pais voce quer saber a capital?')\n",
        "    capital= paises [busca]\n",
        "\n",
        "    if busca in paises:\n",
        "       capital = paises[busca]\n",
        "\n",
        "       print ( f'o país{busca}   tem a captal {capital} ')\n",
        "       break\n",
        "\n",
        "    else:\n",
        "        print(f'o pais  nao existe no arquivo.Tente novamente')"
      ],
      "metadata": {
        "colab": {
          "base_uri": "https://localhost:8080/"
        },
        "id": "GTiVWEIUv4zq",
        "outputId": "4ae3321a-63d4-4d39-c044-74aa8ef01e62"
      },
      "execution_count": 6,
      "outputs": [
        {
          "output_type": "stream",
          "name": "stdout",
          "text": [
            "qual pais voce quer saber a capital?Tailandia\n",
            "o paísTailandia   tem a captal Bangkok \n"
          ]
        }
      ]
    },
    {
      "cell_type": "code",
      "source": [
        "countries = {'Brasil':'Brasilia','Belgica':'Bruxelas','Tailandia':'Bangkok','Senegal':'Dakar','Australia':'Camberra'}\n",
        "print('lista de paises: ')\n",
        "for key in countries.keys():\n",
        "    print(key)\n",
        "\n",
        "country = input('qual pais da lista voce quer saber a capital?   ')\n",
        "\n",
        "while country not in countries:\n",
        "    print(f'o pais{country}nao existe em nosso banco de dados.')\n",
        "    country = input('digite outro pais para saber a capital: ')\n",
        "\n",
        "print(f'a capital de {country} e {countries.get(country)}.')\n",
        "\n"
      ],
      "metadata": {
        "colab": {
          "base_uri": "https://localhost:8080/"
        },
        "id": "fM_uQv2Z9bVx",
        "outputId": "1b9af13d-44f2-4555-90d8-477b1e532b2e"
      },
      "execution_count": 9,
      "outputs": [
        {
          "output_type": "stream",
          "name": "stdout",
          "text": [
            "lista de paises: \n",
            "Brasil\n",
            "Belgica\n",
            "Tailandia\n",
            "Senegal\n",
            "Australia\n",
            "qual pais da lista voce quer saber a capital?   Senegal\n",
            "a capital de Senegal e Dakar.\n"
          ]
        }
      ]
    },
    {
      "cell_type": "code",
      "source": [
        "# Dictionary\n",
        "vegetais = {'batata':' rs 6', 'tomate':' rs 4', 'cenoura':' rs 5' ,'brocolis':'rs 10 ','cebola':' rs 3' ,'pimentao': 'rs 2'}\n",
        "\n",
        "while True :\n",
        "  busca = input('qual vegetal voce quer comprar? ')\n",
        "  produtos = vegetais[busca]\n",
        "\n",
        "  if busca in vegetais :\n",
        "    produtos = vegetais[busca]\n",
        "    print(f'os vegetais {busca} tem {vegetais}')\n",
        "\n",
        "    break\n",
        "\n",
        "  else :\n",
        "    print(f'os vegetais {busca} nao existe na lista.Ecolha outro vegetal.')\n",
        "\n",
        "\n",
        "\n"
      ],
      "metadata": {
        "colab": {
          "base_uri": "https://localhost:8080/"
        },
        "id": "QILVTtR2DwJO",
        "outputId": "2839a490-2d18-4f25-d5a4-9869b79d0bb4"
      },
      "execution_count": 19,
      "outputs": [
        {
          "output_type": "stream",
          "name": "stdout",
          "text": [
            "qual vegetal voce quer comprar? brocolis\n",
            "os vegetais brocolis tem {'batata': ' rs 6', 'tomate': ' rs 4', 'cenoura': ' rs 5', 'brocolis': 'rs 10 ', 'cebola': ' rs 3', 'pimentao': 'rs 2'}\n"
          ]
        }
      ]
    }
  ]
}